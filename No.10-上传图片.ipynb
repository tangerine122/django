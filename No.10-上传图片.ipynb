{
 "cells": [
  {
   "cell_type": "markdown",
   "metadata": {},
   "source": [
    "#  前端上传图片"
   ]
  },
  {
   "cell_type": "markdown",
   "metadata": {},
   "source": [
    "前端上传图片大致分为两个步骤：\n",
    "\n",
    "> 将上传的图片保存到服务器中——使用open的二进制读写方法。\n",
    "> \n",
    "> 将存储在服务器上的图片路径保存到数据库中  "
   ]
  },
  {
   "cell_type": "markdown",
   "metadata": {},
   "source": [
    "## 定义models类\n",
    "\n",
    "定义models类，连接数据库，用于存储图片的路径，以便通过数据库存储的路径调取图片信息。\n",
    "\n",
    "```python\n",
    "class PicTest(models.Model):\n",
    "    pic = models.ImageField(upload_to='demo/')\n",
    "    # 数据库中存储图片后台路径\n",
    "```\n",
    "\n",
    "图片等均存储在多媒体目录中，在settings.py中设置多媒体连接路径  \n",
    "\n",
    "```python\n",
    "STATICFILES_DIRS=[\n",
    "    os.path.join(BASE_DIR,'static')\n",
    "]    # 静态文件连接路径\n",
    "\n",
    "MEDIA_ROOT=os.path.join(BASE_DIR,'static/media')    # 多媒体文件链接路径\n",
    "```\n",
    "\n"
   ]
  },
  {
   "cell_type": "markdown",
   "metadata": {},
   "source": [
    "## 配置子路由\n",
    "\n",
    "简单定义一个上传图片页面和一个展示图片页面，并实现相应的逻辑\n",
    "\n",
    "```python\n",
    "urlpatterns = [\n",
    "    url(r'^$', index),\n",
    "    url(r'^pic_handle/$', pic_handle),        # 上传图片路由\n",
    "    url(r'^pic_show/$', pic_show),          # 展示图片路由\n",
    "]\n",
    "```"
   ]
  },
  {
   "cell_type": "markdown",
   "metadata": {},
   "source": [
    "## 定义上传图片HTML页面\n",
    "\n",
    "上传图片使用form表单进行上传，表单中必须指定`enctype=\"multipart/form-data\"`多媒体属性。\n",
    "\n",
    "```html\n",
    "<form action=\"/pic_handle/\" method=\"post\" enctype=\"multipart/form-data\">\n",
    "    {% csrf_token %}\n",
    "    <input type=\"file\" name=\"pic\">\n",
    "    <br>\n",
    "    <input type=\"submit\" value=\"提交\">\n",
    "</form>\n",
    "```\n",
    "\n",
    "> 必须指定多媒体属性`enctype=\"multipart/form-data\"`在form标签中\n",
    "> \n",
    "> 使用`file`文件控件来上传图片\n",
    "> "
   ]
  },
  {
   "cell_type": "markdown",
   "metadata": {},
   "source": [
    "## 定义上传图片的views函数\n",
    "\n",
    "```python\n",
    "from django.shortcuts import render, redirect\n",
    "from .models import *\n",
    "import os  # 导入os模块用于拼接路径\n",
    "from django.conf import settings  # 导入settings用于获取多媒体目录\n",
    "\n",
    "def pic_handle(request):\n",
    "    pic = request.FILES.get('pic')\n",
    "    # 获取前端file控件返回过来的值\n",
    "    path = os.path.join(settings.MEDIA_ROOT, 'demo', pic.name)\n",
    "    # 组装图片路径，以将他存储到后台指定位置(要把图片存储到static/meida/demo下)。\n",
    "    # pic.name获取图片名\n",
    "\n",
    "    # 使用with open方法将文件以二进制方式存储到指定位置(path提供指定位置)\n",
    "    with open(path, 'bw') as f:\n",
    "        for data in pic.chunks():\n",
    "            # .chunks方法将文件转换成二进制数据流\n",
    "            f.write(data)\n",
    "            # 文件写入\n",
    "    pic_url = 'booktest/{}'.format(pic.name)\n",
    "    PicTest.objects.create(pic=pic_url)\n",
    "    # 将图片后台路径存储到数据库中\n",
    "        \n",
    "    return redirect('/pic_show/')\n",
    "```\n",
    "\n",
    "> request.FILES.get()来获取前端file控件返回的值\n",
    "> \n",
    "> path路径要拼接正确，存储到指定多媒体目录中\n",
    "> \n",
    "> .chunks()将文件转换成二进制数据流格式\n",
    "> \n",
    "> open使用二进制写方式\n",
    "> "
   ]
  },
  {
   "cell_type": "markdown",
   "metadata": {},
   "source": [
    "## 展示图片HTML页面\n",
    "\n",
    "```html\n",
    "{% for foo in all_pic %}\n",
    "    <img src=\"/static/media/{{ foo.pic }}\" alt=\"\">\n",
    "    <br>\n",
    "{% endfor %}\n",
    "\n",
    "```\n",
    "\n",
    "> 图片路径要确定清楚\n"
   ]
  },
  {
   "cell_type": "markdown",
   "metadata": {},
   "source": [
    "## 定义展示图片的views函数\n",
    "\n",
    "```python\n",
    "def pic_show(request):\n",
    "    all_pic = PicTest.objects.all()\n",
    "    return render(request, 'demo/pic_show.html', locals())\n",
    "\n",
    "```"
   ]
  }
 ],
 "metadata": {
  "kernelspec": {
   "display_name": "Python 3",
   "language": "python",
   "name": "python3"
  },
  "language_info": {
   "codemirror_mode": {
    "name": "ipython",
    "version": 3
   },
   "file_extension": ".py",
   "mimetype": "text/x-python",
   "name": "python",
   "nbconvert_exporter": "python",
   "pygments_lexer": "ipython3",
   "version": "3.6.5"
  }
 },
 "nbformat": 4,
 "nbformat_minor": 2
}
