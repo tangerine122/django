{
 "cells": [
  {
   "cell_type": "markdown",
   "metadata": {},
   "source": [
    "# 0802-自定义管理器"
   ]
  },
  {
   "cell_type": "markdown",
   "metadata": {},
   "source": [
    "管理器，使Manager类型的对象，用于与数据库进行交互。  \n",
    "当没有为模型类定义管理器时，Django会为模型类生成一个名为objects的管理器，自定义管理器后，Django不再生成默认管理器objects。  \n",
    "管理器时Django的模型进行数据库操作的接口，Django应用的每个模型都拥有至少一个管理器。  \n",
    "**Django自定义管理器类，继承自models.Manager**。\n",
    "\n",
    "在什么情况下需要自定义管理器：\n",
    "\n",
    "- 修改管理器返回的原始数据集\n",
    "- 管理器类中添加额外的方法，帮我们操作模型类对应的数据表"
   ]
  },
  {
   "cell_type": "markdown",
   "metadata": {},
   "source": [
    "### 在models.py中自定义管理器\n",
    "\n",
    "**Django自定义管理器类，继承自models.Manager**"
   ]
  },
  {
   "cell_type": "markdown",
   "metadata": {},
   "source": [
    "```python\n",
    "class BookinfoManager(models.Manager):\n",
    "    def title_count(self, name):\n",
    "        return len(self.filter(btitle=name))\n",
    "```"
   ]
  },
  {
   "cell_type": "markdown",
   "metadata": {},
   "source": [
    "### 在models数据表中实例化管理器对象\n"
   ]
  },
  {
   "cell_type": "markdown",
   "metadata": {},
   "source": [
    "```python\n",
    "class BookInfo(models.Model):\n",
    "    btitle=models.CharField(max_length=20)\n",
    "    bpub_date=models.DateField()\n",
    "    bread=models.IntegerField(default=0)\n",
    "    bcommet=models.IntegerField(default=0)\n",
    "    isdelete=models.BooleanField(default=False)\n",
    "    class Meta:\n",
    "        db_table='bookinfo'\n",
    "\n",
    "    books=BookInfoManager()\n",
    "    # 实例化自定义管理器\n",
    "```"
   ]
  },
  {
   "cell_type": "markdown",
   "metadata": {},
   "source": [
    "### 在views视图中调用自定义管理器，以实现相应功能\n",
    "\n",
    "调用自定义管理器，不再使用objects属性，而是使用实例化的对象名，然后调用管理器中相应方法\n",
    "\n",
    "```python\n",
    "list = BookInfo.books.title_count('射雕英雄传')\n",
    "```"
   ]
  }
 ],
 "metadata": {
  "kernelspec": {
   "display_name": "Python 3",
   "language": "python",
   "name": "python3"
  },
  "language_info": {
   "codemirror_mode": {
    "name": "ipython",
    "version": 3
   },
   "file_extension": ".py",
   "mimetype": "text/x-python",
   "name": "python",
   "nbconvert_exporter": "python",
   "pygments_lexer": "ipython3",
   "version": "3.6.5"
  }
 },
 "nbformat": 4,
 "nbformat_minor": 2
}
