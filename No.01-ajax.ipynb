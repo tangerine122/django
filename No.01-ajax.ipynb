{
 "cells": [
  {
   "cell_type": "markdown",
   "metadata": {},
   "source": [
    "# 0801   Ajax"
   ]
  },
  {
   "cell_type": "markdown",
   "metadata": {},
   "source": [
    "AJAX 是一种用于创建**快速动态网页**的技术。  \n",
    "\n",
    "通过在后台与服务器进行少量数据交换，AJAX 可以使网页实现**异步更新**。这意味着可以在不重新加载整个网页的情况下，对网页的某部分进行更新。  \n",
    "ajax技术的目的是让javascript发送http请求，与后台通信，获取数据和信息。  \n",
    "ajax技术的原理是实例化xmlhttp对象，使用此对象与后台通信。  \n",
    "ajax通信的过程不会影响后续javascript的执行，从而实现异步。  "
   ]
  },
  {
   "cell_type": "markdown",
   "metadata": {},
   "source": [
    "**同步和异步**   \n",
    "现实生活中，同步指的是同时做几件事情，异步指的是做完一件事后再做另外一件事，  \n",
    "程序中的同步和异步是把现实生活中的概念对调，也就是程序中的异步指的是现实生活中的同步，  \n",
    "程序中的同步指的是现实生活中的异步。  \n",
    "\n",
    "**局部刷新和无刷新**   \n",
    "ajax可以实现局部刷新，也叫做无刷新，无刷新指的是整个页面不刷新，只是局部刷新，  \n",
    "ajax可以自己发送http请求，不用通过浏览器的地址栏，所以页面整体不会刷新，  \n",
    "ajax获取到后台数据，更新页面显示数据的部分，就做到了页面局部刷新。  "
   ]
  },
  {
   "cell_type": "markdown",
   "metadata": {},
   "source": [
    "## 一、Ajax中$.get方法实现局部刷新\n"
   ]
  },
  {
   "cell_type": "markdown",
   "metadata": {},
   "source": [
    "`$.get(url,[data],[callback])`  \n",
    "> url为请求地址，data为请求数据的列表  \n",
    "> \n",
    "> callback为请求成功后的回调函数，该函数接受两个参数\n",
    "> \n",
    "> 第一个参数为服务器返回的数据，第二个参数为服务器状态，是可选参数。\n",
    "> \n",
    "> 服务器返回数据的格式是字符串形式\n"
   ]
  },
  {
   "cell_type": "markdown",
   "metadata": {},
   "source": [
    "代码示例：\n",
    "```\n",
    "$.get(\"data.php\",\n",
    "      $(\"#firstName.val()\"),\n",
    "      function(data){\n",
    "          $(\"#getResponse\").html(data); \n",
    "          }//返回的data是字符串类型\n",
    ");\n",
    "\n",
    "```\n",
    "-------\n",
    "\n",
    "`$(selector).get(url,data,success(response,status,xhr),dataType)`  \n",
    "> 参数  描述:  \n",
    "> \n",
    "> url 必需。规定将请求发送的哪个 URL。\n",
    "> \n",
    "> data  可选。规定连同请求发送到服务器的数据。\n",
    "> \n",
    "> success(response, status, xhr)可选。规定当前请求成功时运行的函数。"
   ]
  },
  {
   "cell_type": "markdown",
   "metadata": {},
   "source": [
    "## 二、Ajax中$.post()方法实现局部刷新"
   ]
  },
  {
   "cell_type": "markdown",
   "metadata": {},
   "source": [
    "`$.post(url, [data], [callback], [type])`\n",
    "\n",
    "post方法和get方法参数用法基本相同，多了一个type参数  \n",
    "\n",
    "> type为请求的数据类型，可以是HTML、XML、JSON等类型  \n",
    "> \n",
    "> 如果设置type参数为json，那么返回的格式则是json格式  \n",
    "> \n",
    "> 如果没有设置，则于get方法一样，返回字符串"
   ]
  },
  {
   "cell_type": "markdown",
   "metadata": {},
   "source": [
    "代码示例：  \n",
    "\n",
    "```\n",
    "$.post(\"data.php\",\n",
    "    $(\"#firstName.val()\"),function(data){\n",
    "        $(\"#postResponse\").html(data.name);\n",
    "        },\n",
    "     \"json\"    //设置了获取数据的类型，所以得到的数据格式为json类型的\n",
    "\n",
    ");\n",
    "```\n",
    "\n",
    "--------"
   ]
  },
  {
   "cell_type": "markdown",
   "metadata": {},
   "source": [
    "使用post方法时，需要设置全局token安全模式\n",
    "\n",
    "```\n",
    "$.ajaxSetup({\n",
    "      \t\tdata: {csrfmiddlewaretoken: '{{ csrf_token }}' },\n",
    "        });\n",
    "```"
   ]
  },
  {
   "cell_type": "markdown",
   "metadata": {},
   "source": [
    "## 三、Ajax中$.ajax()方法实现局部刷新"
   ]
  },
  {
   "cell_type": "markdown",
   "metadata": {},
   "source": [
    "ajax()函数功能非常强大，可以对ajax进行许多精确的控制  "
   ]
  },
  {
   "cell_type": "markdown",
   "metadata": {},
   "source": [
    "```\n",
    "$.ajax({\n",
    "url: \"ajax/ajax_selectPicType.aspx\",\n",
    "data:{Full:\"fu\"},\n",
    "type: \"POST\",\n",
    "dataType:'json',\n",
    "success:CallBack,\n",
    "error:function(er){\n",
    "BackErr(er);}\n",
    "});\n",
    "```\n",
    "> 常用参数：\n",
    ">\n",
    "> 1、url 请求地址\n",
    "> \n",
    "> 2、type 请求方式，默认是'GET'，常用的还有'POST'\n",
    "> \n",
    "> 3、dataType 设置返回的数据格式，常用的是'json'格式，也可以设置为'html'\n",
    "> \n",
    "> 4、data 设置发送给服务器的数据\n",
    ">\n",
    "> 5、success 设置请求成功后的回调函数\n",
    "> \n",
    "> 6、error 设置请求失败后的回调函数\n",
    "> \n",
    "> 7、async 设置是否异步，默认值是'true'，表示异步\n",
    "\n",
    "---------\n"
   ]
  },
  {
   "cell_type": "markdown",
   "metadata": {},
   "source": [
    "jQuery.ajaxSetup()函数用于设置AJAX的全局默认设置。\n",
    "\n",
    "```\n",
    "$('#btn').click(function(){\n",
    "      $.ajax({\n",
    "        url:'/index/',\n",
    "        type:'GET',\n",
    "        dataType:'json',\n",
    "      })\n",
    "      .done(function(data){\n",
    "        $('#zhao').attr(\"src\", data.path)\n",
    "      })\n",
    "      .fail(function(data){\n",
    "        alert('服务器异常')\n",
    "      })\n",
    "    })\n",
    "```\n",
    "    "
   ]
  },
  {
   "cell_type": "markdown",
   "metadata": {},
   "source": [
    "## DEMO：局部刷新实现图片展示"
   ]
  },
  {
   "cell_type": "markdown",
   "metadata": {},
   "source": [
    "#### 创建应用\n",
    "\n",
    "    django-admin startproject test_ajax  \n",
    "\n",
    "\n",
    "#### 创建项目  \n",
    "\n",
    "    python manage.py startapp demo\n",
    "    \n",
    "\n",
    "    "
   ]
  },
  {
   "cell_type": "markdown",
   "metadata": {},
   "source": [
    "#### 配置settings.py"
   ]
  },
  {
   "cell_type": "markdown",
   "metadata": {},
   "source": [
    "1.加载应用\n",
    "\n",
    "```python\n",
    "INSTALLED_APPS = [\n",
    "    'django.contrib.admin',\n",
    "    'django.contrib.auth',\n",
    "    'django.contrib.contenttypes',\n",
    "    'django.contrib.sessions',\n",
    "    'django.contrib.messages',\n",
    "    'django.contrib.staticfiles',\n",
    "    'demo',\n",
    "]\n",
    "```\n",
    "----------------------\n",
    "2.导入模板\n",
    "```python\n",
    "TEMPLATES = [\n",
    "    {\n",
    "        'BACKEND': 'django.template.backends.django.DjangoTemplates',\n",
    "        'DIRS': [os.path.join(BASE_DIR, 'templates')],\n",
    "        'APP_DIRS': True,\n",
    "        'OPTIONS': {\n",
    "            'context_processors': [\n",
    "                'django.template.context_processors.debug',\n",
    "                'django.template.context_processors.request',\n",
    "                'django.contrib.auth.context_processors.auth',\n",
    "                'django.contrib.messages.context_processors.messages',\n",
    "            ],\n",
    "        },\n",
    "    },\n",
    "]\n",
    "```\n",
    "-----------------------------------\n",
    "\n",
    "\n",
    "3.加载数据库链接\n",
    "\n",
    "```python\n",
    "DATABASES = {\n",
    "    'default': {\n",
    "        'ENGINE': 'django.db.backends.mysql',\n",
    "        'NAME': 'test_ajax',\n",
    "        'USER': 'root',\n",
    "        'PASSWORD': '123456',\n",
    "        'HOST': '127.0.0.1',\n",
    "        'POST': '3306',\n",
    "    }\n",
    "}\n",
    "```\n",
    "\n",
    "> 使用MySQL数据库，因版本原因，有些需要在 `__init__.py` 中使整个django配置pymysql\n",
    "> ```python\n",
    "> import pymysql\n",
    "> pymysql.install_as_MySQLdb()\n",
    "> ```\n",
    "\n",
    "\n",
    "> 在MySQL数据库中创建相应的数据库\n",
    ">\n",
    "> ```mysql\n",
    "> CREATE DATABASE test_ajax;\n",
    "> ```\n",
    "\n",
    "---------------\n",
    "\n",
    "\n",
    "4.设置中文和时区\n",
    "\n",
    "```python\n",
    "LANGUAGE_CODE = 'zh-hans'\n",
    "\n",
    "TIME_ZONE = 'Asia/Shanghai'\n",
    "\n",
    "USE_I18N = True\n",
    "\n",
    "USE_L10N = True\n",
    "\n",
    "USE_TZ = False\n",
    "```\n",
    "\n",
    "---------------------\n",
    "\n",
    "5.导入静态路径\n",
    "\n",
    "```python\n",
    "STATIC_URL = '/static/'\n",
    "STATICFILES_DIRS = [\n",
    "    os.path.join(BASE_DIR, 'static'),\n",
    "]\n",
    "```\n",
    "\n",
    "---------------------\n",
    "\n",
    "6.导入多媒体路径\n",
    "\n",
    "```python\n",
    "MEDIA_ROOT = os.path.join(BASE_DIR, 'static/media')\n",
    "```"
   ]
  },
  {
   "cell_type": "markdown",
   "metadata": {},
   "source": [
    "#### 配置主路由\n"
   ]
  },
  {
   "cell_type": "markdown",
   "metadata": {},
   "source": [
    "```python \n",
    "from django.conf.urls import url, include\n",
    "from django.contrib import admin\n",
    "\n",
    "urlpatterns = [\n",
    "    url(r'^admin/', admin.site.urls),\n",
    "    url(r'', include('demo.urls')),\n",
    "]\n",
    "```"
   ]
  },
  {
   "cell_type": "markdown",
   "metadata": {},
   "source": [
    "#### 创建模板templates和静态文件static"
   ]
  },
  {
   "cell_type": "markdown",
   "metadata": {},
   "source": [
    "在应用同级目录下，创建文件夹 `templates` 和 `static`   \n",
    "\n",
    "`static`静态文件中含有js、image、css等   \n",
    "`templates`模板文件中一般含有html页面模板  \n",
    "\n",
    "|- static  \n",
    "&nbsp;&nbsp;&nbsp;&nbsp;&nbsp;&nbsp;|- js  \n",
    "&nbsp;&nbsp;&nbsp;&nbsp;&nbsp;&nbsp;&nbsp;&nbsp;&nbsp;&nbsp;|- jquery-3.1.1.min.js  \n",
    "&nbsp;&nbsp;&nbsp;&nbsp;&nbsp;&nbsp;|- meida  \n",
    "&nbsp;&nbsp;&nbsp;&nbsp;&nbsp;&nbsp;&nbsp;&nbsp;&nbsp;&nbsp;&nbsp;|- image  \n",
    "         "
   ]
  },
  {
   "cell_type": "markdown",
   "metadata": {},
   "source": [
    "#### 配置子路由"
   ]
  },
  {
   "cell_type": "markdown",
   "metadata": {},
   "source": [
    "```python \n",
    "from django.conf.urls import url\n",
    "from .views import *\n",
    "urlpatterns = [\n",
    "   url(r'^$', index),  \n",
    "   url(r'^upload/$', upload),\n",
    "   # ajax刷新执行函数\n",
    "]\n",
    "```\n",
    "\n"
   ]
  },
  {
   "cell_type": "markdown",
   "metadata": {},
   "source": [
    "#### 配置模型类"
   ]
  },
  {
   "cell_type": "markdown",
   "metadata": {},
   "source": [
    "```python\n",
    "from django.db import models\n",
    "\n",
    "# Create your models here.\n",
    "\n",
    "# 创建一个数据表，后台获取图片存储到服务器端，数据表存储图片在服务器端的路径\n",
    "class img(models.Model):\n",
    "    pic = models.FileField(upload_to='image/')\n",
    "    # upload_to 图片存储在静态多媒体文件中的路径。\n",
    "```"
   ]
  },
  {
   "cell_type": "markdown",
   "metadata": {},
   "source": [
    "#### 配置admin后台\n",
    "\n",
    "```python\n",
    "from django.contrib import admin\n",
    "from .models import *\n",
    "# Register your models here.\n",
    "\n",
    "admin.site.register(img)\n",
    "```"
   ]
  },
  {
   "cell_type": "markdown",
   "metadata": {},
   "source": [
    "#### 配置视图views.py\n",
    "\n",
    "```python\n",
    "from django.http import JsonResponse\n",
    "from .models import *\n",
    "import os\n",
    "# Create your views here.\n",
    "\n",
    "\n",
    "def index(request):\n",
    "    return render(request, 'demo/index.html')\n",
    "\n",
    "\n",
    "def upload(request):\n",
    "    pic_path = img.objects.get(id=1).pic.url\n",
    "    # 获取后台的图片路径\n",
    "    pic_path = os.path.join('/static/', 'media', pic_path)\n",
    "    # 补全路径\n",
    "    return JsonResponse({'path': pic_path})\n",
    "```\n"
   ]
  },
  {
   "cell_type": "markdown",
   "metadata": {},
   "source": [
    "#### 设置HTML模板\n",
    "\n",
    "##### get方法\n",
    "\n",
    "```\n",
    "<!DOCTYPE html>\n",
    "<html lang=\"en\">\n",
    "<head>\n",
    "    <meta charset=\"UTF-8\">\n",
    "    <title>图片展示</title>\n",
    "    <script type=\"text/javascript\" src=\"/static/js/jquery-3.1.1.min.js\"></script>\n",
    "</head>\n",
    "<body>\n",
    "<h1>HELLO</h1>\n",
    "<input type=\"button\" value=\"图片展示\" id=\"btn\">\n",
    "<img src=\"\" id=\"img\">\n",
    "\n",
    "</body>\n",
    "<script type=\"text/javascript\">\n",
    "    $(function () {\n",
    "        $('#btn').click(function () {\n",
    "            $.get('/upload/', function (data) {\n",
    "            $('#img').attr('src', data.path)\n",
    "            })\n",
    "        })\n",
    "    })\n",
    "</script>\n",
    "</html>\n",
    "```\n",
    "\n",
    "##### post方法\n",
    "\n",
    "```\n",
    "<h1>HELLO</h1>\n",
    "<input type=\"button\" value=\"图片展示\" id=\"btn\">\n",
    "<img src=\"\" id=\"img\">\n",
    "\n",
    "</body>\n",
    "<script type=\"text/javascript\">\n",
    "    $(function () {\n",
    "        $('#btn').click(function(){\n",
    "            $.ajaxSetup({\n",
    "                data: {csrfmiddlewaretoken: '{{ csrf_token }}'},\n",
    "            });\n",
    "            $.post('/upload/', function (data) {\n",
    "                $('#img').attr('src', data.path)\n",
    "            })\n",
    "        })\n",
    "    })\n",
    "</script>\n",
    "</html>\n",
    "```\n",
    "\n",
    "##### ajax方法\n",
    "\n",
    "```\n",
    "<!DOCTYPE html>\n",
    "<html lang=\"en\">\n",
    "<head>\n",
    "    <meta charset=\"UTF-8\">\n",
    "    <title>图片展示</title>\n",
    "    <script type=\"text/javascript\" src=\"/static/js/jquery-3.1.1.min.js\"></script>\n",
    "</head>\n",
    "<body>\n",
    "<h1>HELLO</h1>\n",
    "<input type=\"button\" value=\"图片展示\" id=\"btn\">\n",
    "<img src=\"\" id=\"img\">\n",
    "\n",
    "</body>\n",
    "<script type=\"text/javascript\">\n",
    "    $(function () {\n",
    "        $('#btn').click(function(){\n",
    "            $.ajax({\n",
    "                url:'/upload/',\n",
    "                type:'GET',\n",
    "                dataType:'json',\n",
    "            })\n",
    "            .done(function(data){\n",
    "                $('#img').attr(\"src\", data.path)\n",
    "            })\n",
    "            .fail(function(data){\n",
    "                alert('服务器异常')\n",
    "            })\n",
    "        })\n",
    "    })\n",
    "</script>\n",
    "</html>\n",
    "```"
   ]
  }
 ],
 "metadata": {
  "kernelspec": {
   "display_name": "Python 3",
   "language": "python",
   "name": "python3"
  },
  "language_info": {
   "codemirror_mode": {
    "name": "ipython",
    "version": 3
   },
   "file_extension": ".py",
   "mimetype": "text/x-python",
   "name": "python",
   "nbconvert_exporter": "python",
   "pygments_lexer": "ipython3",
   "version": "3.6.5"
  }
 },
 "nbformat": 4,
 "nbformat_minor": 2
}
