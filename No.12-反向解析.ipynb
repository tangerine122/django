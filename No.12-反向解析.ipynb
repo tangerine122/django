{
 "cells": [
  {
   "cell_type": "markdown",
   "metadata": {},
   "source": [
    "# 反向解析"
   ]
  },
  {
   "cell_type": "markdown",
   "metadata": {},
   "source": [
    "## 给主路由起名  <span style='color:red'>namespace=\"\"</span>\n",
    "\n",
    "在主路由注册子路由的`include`中加入 `namespace=` 来为主路由定义路由名\n",
    "\n",
    "```python\n",
    "url(r'^', include('demo.urls', namespace=\"demo\")),\n",
    "```"
   ]
  },
  {
   "cell_type": "markdown",
   "metadata": {},
   "source": [
    "## 给子路由起名   <span style='color:red'>name=\"\"</span>\n",
    "\n",
    "在配置子路由时，有`name=`参数，为子路由设置路由名\n",
    "\n",
    "```python\n",
    "urlpatterns = [\n",
    "    url(r'^$', login, name='login'),\n",
    "    url(r'^register/$', register, name='register'),\n",
    "    url(r'^index/$', index, name='index'),\n",
    "]\n",
    "```"
   ]
  },
  {
   "cell_type": "markdown",
   "metadata": {},
   "source": [
    "## 视图函数解析路由名  <span style=\"color:red\">reverse('主路由名:要解析的子路由名')</span>\n",
    "\n",
    "反向解析可以应用在视图的重定向中\n",
    "\n",
    "先导入`reverse`属性\n",
    "```python\n",
    "from django.core.urlresolvers import reverse\n",
    "```\n",
    "\n",
    "使用`reverse`来定义解析路由名，使用方法`redirect(reverse('主路由名:要解析的子路由名'))`\n",
    "\n",
    "```python\n",
    "return redirect(reverse('demo:index'))\n",
    "```\n"
   ]
  },
  {
   "cell_type": "markdown",
   "metadata": {},
   "source": [
    "## 前端页面解析路由名    <span style=\"color:red\">{% url '主路由名:要转向的子路由名' %}</span>\n",
    "\n",
    "前端HTML超链接需要链接到相应的页面时，也可以使用路由名进行重定向\n",
    "\n",
    "使用方法是在跳转路径的地方更改`{% url '主路由名:要转向的子路由名' %}`\n",
    "\n",
    "```html\n",
    "<a href=\"{% url 'demo:register' %}\">注册</a>\n",
    "```\n",
    "```python\n",
    "<a href=\"{% url 'demo:login' %}\">返回登录</a>\n",
    "```\n",
    "\n",
    "```html\n",
    "<form action=\"{% url 'demo:register' %}\" method=\"post\">\n",
    "    ·\n",
    "    ·\n",
    "    ·\n",
    "</form>\n",
    "```"
   ]
  },
  {
   "cell_type": "markdown",
   "metadata": {},
   "source": [
    "> 通过反向解析可以免去在url解析时使用正则的麻烦"
   ]
  },
  {
   "cell_type": "markdown",
   "metadata": {},
   "source": [
    "## 反向解析传参"
   ]
  },
  {
   "cell_type": "markdown",
   "metadata": {},
   "source": [
    "### 带正则的子路由\n",
    "\n",
    "```python\n",
    "url(r'^category/(\\d+)/$', category, name=\"category\"),\n",
    "url(r'^article/(\\d+)/$', article, name='article'),\n",
    "url(r'^comment/(\\d+)/$', comment, name=\"comment\"),\n",
    "\n",
    "```\n",
    "\n",
    "这里的路由带有正则，需要匹配数字来确定路由地址"
   ]
  },
  {
   "cell_type": "markdown",
   "metadata": {},
   "source": [
    "### 前端HTML传值   <span style=\"color:red\">{% url '主路由名:要转向的子路由名' 参数 %}</span>\n",
    "\n",
    "```html\n",
    "<a href=\"{% url 'demo:article' article.id %}\">{{ article.title }}</a>\n",
    "```"
   ]
  },
  {
   "cell_type": "markdown",
   "metadata": {},
   "source": [
    "### 视图函数传值  <span style=\"color:red\">reverse('主路由名:要解析的子路由名', args=(参数，))</span>\n",
    "\n",
    "```python\n",
    "return redirect(reverse('demo:article', args=(id,)))\n",
    "```"
   ]
  }
 ],
 "metadata": {
  "kernelspec": {
   "display_name": "Python 3",
   "language": "python",
   "name": "python3"
  },
  "language_info": {
   "codemirror_mode": {
    "name": "ipython",
    "version": 3
   },
   "file_extension": ".py",
   "mimetype": "text/x-python",
   "name": "python",
   "nbconvert_exporter": "python",
   "pygments_lexer": "ipython3",
   "version": "3.6.5"
  }
 },
 "nbformat": 4,
 "nbformat_minor": 2
}
