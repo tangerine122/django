{
 "cells": [
  {
   "cell_type": "markdown",
   "metadata": {},
   "source": [
    "# 0802过滤器"
   ]
  },
  {
   "cell_type": "markdown",
   "metadata": {},
   "source": [
    "过滤器使用管道符`|`,用于进行计算、转换操作，可以使用在变量、标签中  \n",
    "\n",
    "如果过滤器需要参数，则使用冒号`:`传递参数\n",
    "\n",
    "语法：  \n",
    "\n",
    "    变量|过滤器：参数\n",
    "\n"
   ]
  },
  {
   "cell_type": "markdown",
   "metadata": {},
   "source": [
    "## length\n",
    "\n",
    "length返回字符串包含字符的个数，或列表、元组、字典的元素个数\n",
    "```\n",
    "<ul>\n",
    "{% for name in list %}\n",
    "    {% if name|length > 4 %}\n",
    "    <li>........</li>\n",
    "    {% else %}\n",
    "    <li>....</li>\n",
    "    {% endif %}\n",
    "{% endfor %}\n",
    "</ul>\n",
    "```\n"
   ]
  },
  {
   "cell_type": "markdown",
   "metadata": {},
   "source": [
    "## default\n",
    "\n",
    "默认值设置，如果变量不存在则返回默认值\n",
    "\n",
    "```\n",
    "{{ name|default:\"无数据\" }}\n",
    "```"
   ]
  },
  {
   "cell_type": "markdown",
   "metadata": {},
   "source": [
    "## lower\n",
    "\n",
    "处理变量中字符串，将文本转换为小写\n",
    "\n",
    "```\n",
    "{{ name|lower }}\n",
    "```\n",
    "\n",
    "## upper\n",
    "\n",
    "处理变量中字符串，将文本转换为大写\n",
    "\n",
    "```\n",
    "{{ name|upper }}\n",
    "\n",
    "```\n",
    "\n",
    "> 过滤器可以组合使用，一个过滤器管道的输出可以作为下一个管道的输入  \n",
    "```\n",
    "{{ my_list|first|upper }}\n",
    "```\n",
    "> 上面的示例，将第一个元素转化为大写，其他不变"
   ]
  },
  {
   "cell_type": "markdown",
   "metadata": {},
   "source": [
    "## truncatewords\n",
    "\n",
    "截取变量前n个字符\n",
    "\n",
    "有些过滤器有参数。 过滤器的参数跟随冒号之后并且总是以双引号包含。\n",
    "\n",
    "```\n",
    "{{ bio|truncatewords:\"30\" }}\n",
    "\n",
    "```\n",
    "显示变量bio的前30个词"
   ]
  },
  {
   "cell_type": "markdown",
   "metadata": {},
   "source": [
    "## date\n",
    "\n",
    "date用于对日期类型的值进行字符串格式输出，常用格式话字符：\n",
    "\n",
    "> Y表示年，格式为4位，y表示两位的年\n",
    "> m表示月，格式为01,02,12等\n",
    "> j表示日，格式为1,2等\n",
    "> H表示时，24进制，h表示12进制的时\n",
    "> i表示分，为0-59\n",
    "> s表示秒，为0-59\n",
    "\n",
    "语法格式：\n",
    "\n",
    "    value|date:\"Y年m月j日  H时i分s秒\"\n",
    "    \n",
    "```\n",
    "{{ book.bpub_date|date:\"Y-m-j\" }}\n",
    "```\n"
   ]
  },
  {
   "cell_type": "markdown",
   "metadata": {},
   "source": [
    "## 自定义过滤器\n",
    "\n",
    "在很多情况下，内建的过滤器无法满足我们的业务需求，这时候就需要我们自己建立一个过滤器以供使用  \n",
    "\n",
    "创建自定义过滤器，要在应用文件目录中创建一个`templatetags`目录，在这个目录下创建`filters.py`文件\n",
    "\n",
    "> 为使`filters.py`文件可以被调用，需要在`templatetags`目录中创建`__init__.py`文件"
   ]
  },
  {
   "cell_type": "markdown",
   "metadata": {},
   "source": [
    "#### 创建自定义过滤器"
   ]
  },
  {
   "cell_type": "code",
   "execution_count": 1,
   "metadata": {
    "collapsed": true
   },
   "outputs": [
    {
     "ename": "ModuleNotFoundError",
     "evalue": "No module named 'django'",
     "output_type": "error",
     "traceback": [
      "\u001b[1;31m---------------------------------------------------------------------------\u001b[0m",
      "\u001b[1;31mModuleNotFoundError\u001b[0m                       Traceback (most recent call last)",
      "\u001b[1;32m<ipython-input-1-9e6a955f3206>\u001b[0m in \u001b[0;36m<module>\u001b[1;34m()\u001b[0m\n\u001b[1;32m----> 1\u001b[1;33m \u001b[1;32mfrom\u001b[0m \u001b[0mdjango\u001b[0m\u001b[1;33m.\u001b[0m\u001b[0mtemplate\u001b[0m \u001b[1;32mimport\u001b[0m \u001b[0mLibrary\u001b[0m\u001b[1;33m\u001b[0m\u001b[0m\n\u001b[0m\u001b[0;32m      2\u001b[0m \u001b[1;31m# 导入模块\u001b[0m\u001b[1;33m\u001b[0m\u001b[1;33m\u001b[0m\u001b[0m\n\u001b[0;32m      3\u001b[0m \u001b[0mregister\u001b[0m \u001b[1;33m=\u001b[0m \u001b[0mLibrary\u001b[0m\u001b[1;33m(\u001b[0m\u001b[1;33m)\u001b[0m\u001b[1;33m\u001b[0m\u001b[0m\n\u001b[0;32m      4\u001b[0m \u001b[1;31m# 实例化Library对象\u001b[0m\u001b[1;33m\u001b[0m\u001b[1;33m\u001b[0m\u001b[0m\n\u001b[0;32m      5\u001b[0m \u001b[1;33m\u001b[0m\u001b[0m\n",
      "\u001b[1;31mModuleNotFoundError\u001b[0m: No module named 'django'"
     ]
    }
   ],
   "source": [
    "from django.template import Library\n",
    "# 导入模块\n",
    "register = Library()\n",
    "# 实例化Library对象\n",
    "\n",
    "@register.filter\n",
    "# 使用装饰器进行注册\n",
    "def mod(value):\n",
    "    # 定义过滤器函数mod，实现对变量求余\n",
    "    return value % 2\n"
   ]
  },
  {
   "cell_type": "markdown",
   "metadata": {},
   "source": [
    "#### 引入自定义模块\n",
    "\n",
    "在HTML中，要使用自定义过滤器，首先要用load标签引入filters模块\n",
    "```\n",
    "{% load filters %}\n",
    "```"
   ]
  },
  {
   "cell_type": "markdown",
   "metadata": {},
   "source": [
    "#### 使用自定义过滤器\n",
    "\n",
    "```\n",
    "<!DOCTYPE html>\n",
    "{% load filters %}   <!--加载filters-->\n",
    "<html lang=\"en\">\n",
    "<head>\n",
    "    <meta charset=\"UTF-8\">\n",
    "    <title>Title</title>\n",
    "</head>\n",
    "<body>\n",
    "<h1>hello</h1>\n",
    "{% for book in list %}\n",
    "{% if book.id|mod == 1 %}   <!--使用mod自定义过滤器-->\n",
    "<li style=\"background-color:green;\">{{book.btitle}}</li>\n",
    "{%else%}\n",
    "<li style=\"background-color:yellow;\">{{book.btitle}}</li>\n",
    "{% endif%}\n",
    "{% endfor %}\n",
    "</body>\n",
    "</html>\n",
    "```"
   ]
  }
 ],
 "metadata": {
  "kernelspec": {
   "display_name": "Python 3",
   "language": "python",
   "name": "python3"
  },
  "language_info": {
   "codemirror_mode": {
    "name": "ipython",
    "version": 3
   },
   "file_extension": ".py",
   "mimetype": "text/x-python",
   "name": "python",
   "nbconvert_exporter": "python",
   "pygments_lexer": "ipython3",
   "version": "3.6.5"
  }
 },
 "nbformat": 4,
 "nbformat_minor": 2
}
