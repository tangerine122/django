{
 "cells": [
  {
   "cell_type": "markdown",
   "metadata": {},
   "source": [
    "# 富文本\n",
    "\n",
    "实质上是在admin后台或者HTML页面中显示特定的文本格式设置模板\n"
   ]
  },
  {
   "cell_type": "markdown",
   "metadata": {},
   "source": [
    "## 安装富文本插件\n",
    "\n",
    "\n",
    "```cmd\n",
    "pip install django-tinymce==2.6.0\n",
    "```"
   ]
  },
  {
   "cell_type": "markdown",
   "metadata": {},
   "source": [
    "## 富文本编辑器配置到Django环境中\n",
    "\n",
    "在`settings.py `中先将富文本编辑器添加到项目应用中\n",
    "\n",
    "```python\n",
    "INSTALLED_APPS = [\n",
    "    'django.contrib.admin',\n",
    "    'django.contrib.auth',\n",
    "    'django.contrib.contenttypes',\n",
    "    'django.contrib.sessions',\n",
    "    'django.contrib.messages',\n",
    "    'django.contrib.staticfiles',\n",
    "    'demo',\n",
    "    'tinymce',  # 注册富文本编辑器到项目应用\n",
    "]\n",
    "````\n",
    "\n",
    "并在`settings.py`末尾添加富文本编辑器配置\n",
    "\n",
    "```python\n",
    "TINYMCE_DEFAULT_CONFIG = {\n",
    "    'theme': 'advanced',  # 主题\n",
    "    'width': 600,       # 宽\n",
    "    'height': 400,      # 高\n",
    "}\n",
    "```\n"
   ]
  },
  {
   "cell_type": "markdown",
   "metadata": {},
   "source": [
    "## 在admin后台调用富文本编辑器\n",
    "\n",
    "编辑器配置到Django后，便开始使用，先介绍在admin后台如何调用编辑器\n",
    "\n",
    "在models模型类中创建数据表，导入编辑器模块\n",
    "```python\n",
    "from tinymce.models import HTMLField\n",
    "```\n",
    "定义引用富文本字段\n",
    "```python\n",
    "content = HTMLField()  # 调用富文本编辑器\n",
    "```\n",
    "-------------------------\n",
    "\n",
    "```python\n",
    "from django.db import models\n",
    "from tinymce.models import HTMLField\n",
    "# 导入富文本编辑器\n",
    "\n",
    "\n",
    "class Tin(models.Model):\n",
    "    title = models.CharField(max_length=40, verbose_name=\"标题\")\n",
    "    content = HTMLField()  # 调用富文本编辑器\n",
    "\n",
    "    def __str__(self):\n",
    "        return self.title\n",
    "\n",
    "    class Meta:\n",
    "        verbose_name = '文章'\n",
    "        verbose_name_plural = verbose_name\n",
    "\n",
    "```\n",
    "\n",
    "并将model对象注册到admin后台，，content字段便为富文本格式，在数据库中字段类型为`longtext`"
   ]
  },
  {
   "cell_type": "markdown",
   "metadata": {},
   "source": [
    "## 在前端页面调用富文本编辑器\n",
    "\n",
    "前端设置富文本编辑器\n",
    "\n",
    "```html\n",
    "<html>\n",
    "<head>\n",
    "    <title>自定义使用tinymce</title>\n",
    "    <script type=\"text/javascript\" src='/static/js/tiny_mce.js'></script>\n",
    "    <script type=\"text/javascript\">\n",
    "        tinyMCE.init({\n",
    "            'mode':'textareas',\n",
    "            'theme':'advanced',\n",
    "            'width':400,\n",
    "            'height':100\n",
    "        });\n",
    "    </script>\n",
    "</head>\n",
    "<body>\n",
    "<form method=\"post\" action=\"#\">\n",
    "    <textarea name='gcontent'>自定义富文本编辑器</textarea>\n",
    "</form>\n",
    "</body>\n",
    "</html>\n",
    "```\n",
    "\n",
    "打开py_django虚拟环境的目录，找到tinymce的目录，把`tiny_mce.js`文件复制到static静态文件中  \n",
    "    C:\\Program Files\\python\\Python35\\Lib\\site-packages\\tinymce\\static\\tiny_mce"
   ]
  }
 ],
 "metadata": {
  "kernelspec": {
   "display_name": "Python 3",
   "language": "python",
   "name": "python3"
  },
  "language_info": {
   "codemirror_mode": {
    "name": "ipython",
    "version": 3
   },
   "file_extension": ".py",
   "mimetype": "text/x-python",
   "name": "python",
   "nbconvert_exporter": "python",
   "pygments_lexer": "ipython3",
   "version": "3.6.5"
  }
 },
 "nbformat": 4,
 "nbformat_minor": 2
}
