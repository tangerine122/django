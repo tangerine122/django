{
 "cells": [
  {
   "cell_type": "markdown",
   "metadata": {},
   "source": [
    "## 0806-博客现目-标签云、浏览排行、站长推荐\n"
   ]
  },
  {
   "cell_type": "markdown",
   "metadata": {},
   "source": [
    "## 标签云"
   ]
  },
  {
   "cell_type": "markdown",
   "metadata": {},
   "source": [
    "添加标签云需要在models模型类中添加标签表"
   ]
  },
  {
   "cell_type": "markdown",
   "metadata": {},
   "source": [
    "### 配置models.py\n",
    "\n",
    "```python\n",
    "class Label(models.Model):\n",
    "    # 标签表\n",
    "    name = models.CharField(max_length=32)\n",
    "\n",
    "    def __str__(self):\n",
    "        return self.name\n",
    "\n",
    "    class Meta:\n",
    "        verbose_name = \"标签表\"\n",
    "        verbose_name_plural = verbose_name\n",
    "```"
   ]
  },
  {
   "cell_type": "markdown",
   "metadata": {},
   "source": [
    "### 标签表注册到admin后台\n",
    "\n",
    "```python\n",
    "admin.site.register(Label)\n",
    "```"
   ]
  },
  {
   "cell_type": "markdown",
   "metadata": {},
   "source": [
    "### 配置全局函数Global\n",
    "\n",
    "标签云在所有页面都显示，所以直接设置全局函数，使函数在所有页面中均显示。\n",
    "\n",
    "1. 在视图函数`views.py`中创建Global函数\n",
    "```python\n",
    "# 全局变量：每一个模板都能使用的函数\n",
    "# 定义全局变量，必须在settings.py中templates里添加过来\n",
    "def Global(request):\n",
    "    # 函数内容后续添加\n",
    "    return locals()\n",
    "```\n",
    "\n",
    "2. 然后在`settings.py`文件中的`TEMPLATES`变量中将全局函数添加到模板页面，以供所有页面调用全局函数\n",
    "```python\n",
    "TEMPLATES = [\n",
    "    {\n",
    "        'BACKEND': 'django.template.backends.django.DjangoTemplates',\n",
    "        'DIRS': [os.path.join(BASE_DIR, 'templates')],\n",
    "        'APP_DIRS': True,\n",
    "        'OPTIONS': {\n",
    "            'context_processors': [\n",
    "                'django.template.context_processors.debug',\n",
    "                'django.template.context_processors.request',\n",
    "                'django.contrib.auth.context_processors.auth',\n",
    "                'django.contrib.messages.context_processors.messages',\n",
    "                'demo.views.Global',        # 添加全局变量\n",
    "            ],\n",
    "        },\n",
    "    },\n",
    "]\n",
    "```"
   ]
  },
  {
   "cell_type": "markdown",
   "metadata": {},
   "source": [
    "### 标签云与分类表配置到全局函数\n",
    "\n",
    "配置完全局函数，就要对全局函数进行配置。博客中除标签云以外，分类表的显示也是所有页面都需要调用的，所以也把分类表的显示移到全局函数中\n",
    "```python\n",
    "def Global(request):\n",
    "    all_label = Label.objects.all()\n",
    "    # 获取所有标签\n",
    "    all_category = Category.objects.all()\n",
    "    # 获取所有分类\n",
    " \n",
    "    return locals()\n",
    "```"
   ]
  },
  {
   "cell_type": "markdown",
   "metadata": {},
   "source": [
    "### 配置模板HTML\n",
    "\n",
    "```html\n",
    "<h3>标签云</h3>\n",
    "      <ul>\n",
    "          {% for label in all_label %}\n",
    "          <li><a href=\"#\">{{ label.name }}</a></li>\n",
    "          {% endfor %}\n",
    "\n",
    "      </ul>\n",
    "```"
   ]
  },
  {
   "cell_type": "markdown",
   "metadata": {},
   "source": [
    "### 生成迁移、执行迁移、启动服务\n",
    "\n",
    "生成迁移\n",
    "```python\n",
    "python manage.py makemigrations\n",
    "```\n",
    "\n",
    "执行迁移\n",
    "```python\n",
    "python manage.py migrate\n",
    "```\n",
    "\n",
    "启动服务\n",
    "```python\n",
    "python manage.py runserver\n",
    "```\n",
    "\n"
   ]
  },
  {
   "cell_type": "markdown",
   "metadata": {},
   "source": [
    "### 后台添加标签数据查看效果\n",
    "\n",
    "----------------------------"
   ]
  },
  {
   "cell_type": "markdown",
   "metadata": {},
   "source": [
    "## 浏览排行和站长推荐\n",
    "\n",
    "> 浏览排行主要根据浏览量数据进行排序，并指定输出前几个数据  \n",
    "> 站长推荐主要根据是否推荐选项按照发布时间进行排序，并指定数据前几个数据  \n",
    "\n"
   ]
  },
  {
   "cell_type": "markdown",
   "metadata": {},
   "source": [
    "### 配置视图函数views\n",
    "\n",
    "在全局函数中配置\n",
    "\n",
    "```python\n",
    "\n",
    "def Global(request):\n",
    "    all_label = Label.objects.all()\n",
    "    # 获取所有标签\n",
    "    all_category = Category.objects.all()\n",
    "    # 获取所有分类\n",
    "    all_article_views = Article.objects.all().order_by('-page_views')[0:4]\n",
    "    # 获取浏览排行前四的文章\n",
    "    all_article_recommend = Article.objects.filter(recommend=True).order_by('-publish_time')[:4]\n",
    "    # 获取所有推荐的文章,发布时间倒叙排序的前四个\n",
    "    return locals()\n",
    "```"
   ]
  },
  {
   "cell_type": "markdown",
   "metadata": {},
   "source": [
    "### 配置模板HTML\n",
    "\n",
    "```html\n",
    " <div class=\"ms-top\">\n",
    "        <ul class=\"hd\" id=\"tab\">\n",
    "          <li class=\"cur\"><a href=\"/\">浏览排行</a></li>\n",
    "          <li><a href=\"/\">评论排行</a></li>\n",
    "          <li><a href=\"/\">站长推荐</a></li>\n",
    "        </ul>\n",
    " </div>\n",
    " <div class=\"ms-main\" id=\"ms-main\">\n",
    "        <div style=\"display: block;\" class=\"bd bd-news\" >\n",
    "          <ul>\n",
    "              {% for article in all_article_views %}\n",
    "              <li><a href=\"/article/{{ article.id }}/\" target=\"_blank\">{{ article.title }}</a></li>\n",
    "              {% endfor %}\n",
    "\n",
    "             </ul>\n",
    "        </div>\n",
    "        <div  class=\"bd bd-news\">\n",
    "          <ul>\n",
    "\n",
    "            <li><a href=\"/article/{{ article.id }}/\" target=\"_blank\"></a></li>\n",
    "          </ul>\n",
    "        </div>\n",
    "        <div class=\"bd bd-news\">\n",
    "          <ul>\n",
    "             {% for article in all_article_recommend %}\n",
    "              <li><a href=\"/article/{{ article.id }}/\" target=\"_blank\">{{ article.title}}</a></li>\n",
    "              {% endfor %}\n",
    "          </ul>\n",
    "        </div>\n",
    " </div>\n",
    "\n",
    "```"
   ]
  },
  {
   "cell_type": "markdown",
   "metadata": {},
   "source": [
    "### 启动服务\n",
    "\n",
    "```python\n",
    "python manage.py runserver\n",
    "```"
   ]
  }
 ],
 "metadata": {
  "kernelspec": {
   "display_name": "Python 3",
   "language": "python",
   "name": "python3"
  },
  "language_info": {
   "codemirror_mode": {
    "name": "ipython",
    "version": 3
   },
   "file_extension": ".py",
   "mimetype": "text/x-python",
   "name": "python",
   "nbconvert_exporter": "python",
   "pygments_lexer": "ipython3",
   "version": "3.6.5"
  }
 },
 "nbformat": 4,
 "nbformat_minor": 2
}
