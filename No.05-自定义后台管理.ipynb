{
 "cells": [
  {
   "cell_type": "markdown",
   "metadata": {},
   "source": [
    "# 0802-自定义后台管理"
   ]
  },
  {
   "cell_type": "markdown",
   "metadata": {},
   "source": [
    "## 创建后台管理员\n",
    "\n",
    "命令行输入`createsuperuser`创建后台管理员\n",
    "\n",
    "```python \n",
    "python manage.py createsuperuser\n",
    "```\n",
    "\n",
    "按提示输入用户名（Uername），邮箱（Email address），密码（Password）  \n",
    "> 其中用户名和密码不能省略，邮箱可以为不填省略\n",
    "> \n",
    "> 密码要求八位以上，包含字母和数字\n"
   ]
  },
  {
   "cell_type": "markdown",
   "metadata": {},
   "source": [
    "## 进入后台管理系统\n",
    "\n",
    "启动服务器\n",
    "```\n",
    "python manage.py runserver\n",
    "```\n",
    "\n",
    "打开浏览器，地址栏输入如下地址进入后台管理系统\n",
    "```\n",
    "http://127.0.0.1:80000/admin\n",
    "```\n"
   ]
  },
  {
   "cell_type": "markdown",
   "metadata": {},
   "source": [
    "## 模型类注册到后台\n",
    "\n",
    "自定义后台管理，一般在应用目录中的`admin.py`中添加设置，但也有些特例，在后面赘述。  \n",
    "\n",
    "以往在`models.py`中创建的数据表及数据类型，在不注册的情况下无法在后台管理系统中显示  \n",
    "\n",
    "注册数据需要调用Django中admin模块：\n",
    "\n",
    "```python\n",
    "from django.contrib import admin\n",
    "admin.site.register(模型类名)\n",
    "```\n",
    "\n",
    "例：将之前创建的书名表，英雄表注册到admin\n",
    "```python\n",
    "admin.site.register(BookInfo)\n",
    "admin.site.register(HeroInfo)\n",
    "```"
   ]
  },
  {
   "cell_type": "markdown",
   "metadata": {},
   "source": [
    "## 自定义数据表表名 <span style=\"color:red\">db_table</span>\n",
    "\n",
    "把模型类中的数据注册到admin后台，便会在后台显示注册的数据表，但是此时，系统会用模型类名来定义表名，为了更人性化，我们需要自定义数据表表名。  \n",
    "\n",
    "自定义后台数据表表名需要在模型类中操作。  \n",
    "在模型类中创建Meta类，变量`verbose_name`便可设置后台数据表显示的表名  \n",
    "\n",
    "```python\n",
    "class BookInfo(models.Model):\n",
    "    # 图书表\n",
    "    btitle = models.CharField(max_length=20, verbose_name=\"书名\")\n",
    "    ......\n",
    "\n",
    "    class Meta:\n",
    "        # 自定义数据库数据表名，不指定数据表则自动生成——应用名_(小写)类名\n",
    "        db_table = 'bookinfo'\n",
    "        # 自定义后台数据表名\n",
    "        verbose_name = \"图书表\"\n",
    "        # 去掉后台表名的复数s\n",
    "        verbose_name_plural = verbose_name\n",
    "```"
   ]
  },
  {
   "cell_type": "markdown",
   "metadata": {},
   "source": [
    "## 自定义字段名  <span style=\"color:red\">verbose_name</span>\n",
    "\n",
    "数据表表名已经被自定义，但是进入数据表后会发现每个字段的名字还是初始的字段名，同样为了易于理解，我们也要将字段名进行自定义。  \n",
    "\n",
    "定义字段名，在模型类中对需要定义的字段后添加参数`verbose_name`值，进行自定义，也可以省略verbose_name直接使用字符串进行定义。  \n",
    "但是在引入外键的字段中verbose_name不可省略  \n",
    "\n",
    "```python\n",
    "class BookInfo(models.Model):\n",
    "    # 图书表\n",
    "    btitle = models.CharField(max_length=20, verbose_name=\"书名\")\n",
    "    # verbose_name设置后台字段名\n",
    "    # 书名，字符类型\n",
    "    bpub_date = models.DateField(verbose_name=\"日期\")\n",
    "    # 出版日期，日期类型\n",
    "    bread = models.IntegerField(default=0, verbose_name=\"阅读量\")\n",
    "    # 阅读量，整型，默认0\n",
    "    bcommet = models.IntegerField(default=0, verbose_name=\"评论量\")\n",
    "    # 评论量，整型，默认0\n",
    "    isdelete = models.BooleanField(default=False)\n",
    "    # 逻辑删除，布尔型，默认False\n",
    "\n",
    "    class Meta:\n",
    "        # 自定义数据库数据表名，不指定数据表则自动生成——应用名_(小写)类名\n",
    "        db_table = 'bookinfo'\n",
    "        # 自定义后台数据表名\n",
    "        verbose_name = \"图书表\"\n",
    "        # 去掉后台表名的复数s\n",
    "        verbose_name_plural = verbose_name\n",
    "\n",
    "```\n"
   ]
  },
  {
   "cell_type": "markdown",
   "metadata": {},
   "source": [
    "## 后台对象转化字符串  <span style=\"color:red\">def __str__(self):</span>\n",
    "\n",
    "进入数据表中，会发现所有数据都显示为`模型类 objects`对象  \n",
    "\n",
    "为了将对象转化为字符串显示出来，需要继续对模型类进行设置  \n",
    "\n",
    "调用`__str__`或者`__unicode__`方法进行转换  \n",
    "\n",
    "```python \n",
    "    def __str__(self):\n",
    "        return self.显示的字段名\n",
    "```\n",
    "\n",
    "\n",
    "```python\n",
    "class BookInfo(models.Model):\n",
    "    # 图书表\n",
    "    btitle = models.CharField(max_length=20, verbose_name=\"书名\")\n",
    "    # verbose_name设置后台字段名\n",
    "    # 书名，字符类型\n",
    "    bpub_date = models.DateField(verbose_name=\"日期\")\n",
    "    # 出版日期，日期类型\n",
    "    bread = models.IntegerField(default=0, verbose_name=\"阅读量\")\n",
    "    # 阅读量，整型，默认0\n",
    "    bcommet = models.IntegerField(default=0, verbose_name=\"评论量\")\n",
    "    # 评论量，整型，默认0\n",
    "    isdelete = models.BooleanField(default=False)\n",
    "    # 逻辑删除，布尔型，默认False\n",
    "\n",
    "    def __str__(self):\n",
    "        # 把后台显示的对象转化成字符串的方法\n",
    "        return self.btitle\n",
    "\n",
    "    class Meta:\n",
    "        # 自定义数据库数据表名，不指定数据表则自动生成——应用名_(小写)类名\n",
    "        db_table = 'bookinfo'\n",
    "        # 自定义后台数据表名\n",
    "        verbose_name = \"图书表\"\n",
    "        # 去掉后台表名的复数s\n",
    "        verbose_name_plural = verbose_name\n",
    "\n",
    "\n",
    "class HeroInfo(models.Model):\n",
    "    # 英雄表\n",
    "    hname = models.CharField(max_length=20)\n",
    "    # 英雄名，字符类型，长度20\n",
    "    hgender = models.BooleanField(default=True)\n",
    "    # 性别，布尔型，默认True\n",
    "    isDelete = models.BooleanField(default=False)\n",
    "    # 逻辑删除，布尔型，默认False\n",
    "    hcontent = models.CharField(max_length=100)\n",
    "    # 技能，字符类型，长度100\n",
    "    hbook = models.ForeignKey('BookInfo')\n",
    "    # 书名id，外键关联bookinfo\n",
    "\n",
    "    def __str__(self):\n",
    "        return self.hname\n",
    "\n",
    "    class Meta:\n",
    "        verbose_name = \"英雄表\"\n",
    "        verbose_name_plural = verbose_name\n",
    "\n",
    "```\n"
   ]
  },
  {
   "cell_type": "markdown",
   "metadata": {},
   "source": [
    "## 自定义后台头信息\n",
    "\n",
    "设置后台系统标题  \n",
    "在admin.py文件中设置  \n",
    "```python\n",
    "admin.site.site_header = 'xx后台管理系统'\n",
    "```\n",
    "\n",
    "设置admin页title标签  \n",
    "同样在admin.py中设置  \n",
    "```python \n",
    "admin.site.site_title = '后台'\n",
    "```\n",
    "\n",
    "![标题和title区分](img/标题.png)"
   ]
  },
  {
   "cell_type": "markdown",
   "metadata": {},
   "source": [
    "> 管理类有两种使用方式：\n",
    "> - 注册参数  \n",
    ">     打开demo/admin.py 文件  \n",
    ">     注册模型类\n",
    ">     ```python\n",
    ">     admin.site.register(AreaInfo, AreaAdmin)\n",
    ">     ```\n",
    "> - 装饰器  \n",
    ">     在管理器上注册模型类\n",
    ">     ```python\n",
    ">     @admin.register(AreaInfo)\n",
    ">     class AreaAdmin(admin.ModelAdmin):\n",
    ">         pass\n",
    ">    ```"
   ]
  },
  {
   "cell_type": "markdown",
   "metadata": {},
   "source": [
    "## 后台控件\n",
    "\n"
   ]
  },
  {
   "cell_type": "markdown",
   "metadata": {},
   "source": [
    "### 创建后台控件\n",
    "\n",
    "后台控件继承admin.ModelAdmin类\n",
    "\n",
    "```python\n",
    "class BookInfoAdmin(admin.ModelAdmin):\n",
    "    pass\n",
    "```\n",
    "\n",
    "然后将控件注册到admin后台\n",
    "\n",
    "```python\n",
    "admin.site.register(BookInfo, BookInfoAdmin)\n",
    "admin.site.register(HeroInfo)\n",
    "```\n",
    "\n",
    "在控件类中添加设置变量，来自定义设置后台管理系统样式，  \n",
    "下面是一下常用的后台管理样式"
   ]
  },
  {
   "cell_type": "markdown",
   "metadata": {},
   "source": [
    "### 控制每页显示数据条数——<span style=\"color:red\">list_per_page = int</span>\n",
    "\n",
    "`list_per_page`控制每页显示多少条数据信息， 等号后输入整型int  \n",
    "默认每页显示100条信息  \n",
    "```python\n",
    "list_per_page = 20\n",
    "```\n",
    "自定义每页显示20条数据信息"
   ]
  },
  {
   "cell_type": "markdown",
   "metadata": {},
   "source": [
    "### 执行动作属性设置顶部显示——<span style=\"color:red\">acitons_on_top = bool</span>\n",
    "\n",
    "执行动作属性默认在顶部显示，故`actions_on_top`默认显示`True`  \n",
    "也可自行设置，仅输入布尔型True或False  \n",
    "```python\n",
    "actions_on_top = False\n",
    "```\n",
    "自定义动作属性不在顶部显示"
   ]
  },
  {
   "cell_type": "markdown",
   "metadata": {},
   "source": [
    "### 执行动作属性设置底部显示——<span style=\"color:red\">acitons_on_bottom = bool</span>\n",
    "\n",
    "与actions_on_top设置类似，但`actions_on_bottom`默认值`False`  \n",
    "```python\n",
    "actions_on_bottom = True\n",
    "```\n",
    "自定义动作属性在底部显示"
   ]
  },
  {
   "cell_type": "markdown",
   "metadata": {},
   "source": [
    "### 列表中的列——<span style=\"color:red\">list_display = [ list ]</span>\n",
    "\n",
    "`list_display`用于设置数据在后台显示的字段列表，默认仅显示第一个字段  \n",
    "等号后输入列表类型list  \n",
    "```python\n",
    "list_display = ['btitle', 'bread', 'bcommet']\n",
    "```\n",
    "自定义数据显示书名，阅读量和评论量"
   ]
  },
  {
   "cell_type": "markdown",
   "metadata": {},
   "source": [
    "### 过滤器——<span style=\"color:red\">list_filter = [ list ]</span>\n",
    "\n",
    "`list_filter`方法会在后台管理右侧出现类似过滤器的分组栏  \n",
    "等号后输入列表类型list，确定过滤器以某列进行分组  \n",
    "\n",
    "```python\n",
    "list_filter = ['btitle']\n",
    "```\n",
    "自定义数据以书名进行过滤\n"
   ]
  },
  {
   "cell_type": "markdown",
   "metadata": {},
   "source": [
    "### 搜索框——<span style=\"color:red\">search_fields = [ list ]</span>\n",
    "\n",
    "`search_fields`方法会在后台管理上方出现一个搜索框  \n",
    "等号后输入列表类型list。确定以哪个字段类型进行搜索  \n",
    "\n",
    "```python\n",
    "search_fields = ['btitle']\n",
    "```\n",
    "自定义以书名进行搜索"
   ]
  },
  {
   "cell_type": "markdown",
   "metadata": {},
   "source": [
    "### 可编辑——<span style=\"color:red\">list_editable = [ list ]</span>\n",
    "`list_editable`方法可实现在显示页中可编辑的功能  \n",
    "等号后输入列表类型list。确定哪个字段可编辑  \n",
    "\n",
    "```python\n",
    "list_editable = ['bread', 'bcommet']\n",
    "```\n",
    "自定义阅读量和评论量可编辑"
   ]
  },
  {
   "cell_type": "markdown",
   "metadata": {},
   "source": [
    "### 排序——<span style=\"color:red\">ordering = ( tuple, )</span>\n",
    "\n",
    "`ordering`设置默认以某字段排序，符号表示降序排序  \n",
    "等号后输入元素tuple  \n",
    "\n",
    "```python\n",
    "ordering = ('-btitle',)\n",
    "```\n",
    "自定义以书名降序排序\n",
    "\n",
    "> 注意：当元组中有一个元素时，括号内一定要加逗号以确定传入的是元组\n"
   ]
  }
 ],
 "metadata": {
  "kernelspec": {
   "display_name": "Python 3",
   "language": "python",
   "name": "python3"
  },
  "language_info": {
   "codemirror_mode": {
    "name": "ipython",
    "version": 3
   },
   "file_extension": ".py",
   "mimetype": "text/x-python",
   "name": "python",
   "nbconvert_exporter": "python",
   "pygments_lexer": "ipython3",
   "version": "3.6.5"
  }
 },
 "nbformat": 4,
 "nbformat_minor": 2
}
